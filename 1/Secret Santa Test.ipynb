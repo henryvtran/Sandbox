{
 "cells": [
  {
   "cell_type": "code",
   "execution_count": 6,
   "metadata": {},
   "outputs": [
    {
     "name": "stdout",
     "output_type": "stream",
     "text": [
      "Thy gives a gift to Nhi.\n",
      "Stacy gives a gift to Cang.\n",
      "Kobe gives a gift to Tammy.\n",
      "Andrew Tang gives a gift to Andrew Tran.\n",
      "Annie H gives a gift to Hansen.\n",
      "Jayla gives a gift to Annie D.\n",
      "Tim gives a gift to Stacy.\n",
      "Bons gives a gift to Brandon.\n",
      "Amber gives a gift to Kylan.\n",
      "Millard gives a gift to Lana.\n",
      "Kylan gives a gift to Quan.\n",
      "Anthony gives a gift to Ivy.\n",
      "Vivian N gives a gift to Ryan.\n",
      "MT Johnny gives a gift to Lanah.\n",
      "Ryan gives a gift to Anthony.\n",
      "Bao gives a gift to MT Johnny.\n",
      "Tammy gives a gift to Hoang.\n",
      "Lana gives a gift to Tim.\n",
      "John gives a gift to Lisa.\n",
      "Andrew Tran gives a gift to Michael.\n",
      "Michael gives a gift to Eric.\n",
      "Ivy gives a gift to Jayla.\n",
      "Lanah gives a gift to Millard.\n",
      "Hoang gives a gift to Bons.\n",
      "Nhi gives a gift to Amber.\n",
      "Hansen gives a gift to John.\n",
      "Kathy gives a gift to Andrew Tang.\n",
      "Brandon gives a gift to Thy.\n",
      "Jeannie gives a gift to Liann.\n",
      "Lisa gives a gift to Annie H.\n",
      "Quan gives a gift to Jimmy.\n",
      "Annie D gives a gift to Kristie.\n",
      "Kristie gives a gift to Vivian N.\n",
      "Cang gives a gift to Tiffany.\n",
      "Kim gives a gift to Kobe.\n",
      "Phung gives a gift to Bao.\n",
      "Vivian V gives a gift to Phung.\n",
      "Liann gives a gift to Kathy.\n",
      "Tiffany gives a gift to Jeannie.\n",
      "Eric gives a gift to Kim.\n",
      "Jimmy gives a gift to Vivian V.\n"
     ]
    }
   ],
   "source": [
    "import random\n",
    "import itertools\n",
    "#taken from https://arstechnica.com/civis/viewtopic.php?f=20&t=94171\n",
    "\n",
    "#import csv to people\n",
    "people = ['Lanah','Tammy','Jayla','Thy','Lisa','Jeannie','Stacy','Kristie','Kylan','Ivy','Phung','Annie D','Kim','Annie H',\n",
    "          'Vivian N','Vivian V','Tiffany','Liann','Amber','Lana','Nhi','Kathy','Cang','Kobe','Hansen','Michael','Andrew Tang',\n",
    "          'Andrew Tran','John','MT Johnny','Millard','Eric','Hoang','Bons','Tim','Anthony','Jimmy','Bao','Ryan','Quan','Brandon',]\n",
    "          \n",
    "\n",
    "def valid(a, b):\n",
    "    for i, j in itertools.izip(a, b):\n",
    "        if i == j: return False\n",
    "    return True\n",
    "\n",
    "a = list(people)\n",
    "b = list(people)\n",
    "\n",
    "while not valid(a, b):\n",
    "    random.shuffle(a)\n",
    "    random.shuffle(b)\n",
    "\n",
    "for i, j in itertools.izip(a, b):\n",
    "    print '%s gives a gift to %s.' %(i, j)"
   ]
  },
  {
   "cell_type": "code",
   "execution_count": null,
   "metadata": {
    "collapsed": true
   },
   "outputs": [],
   "source": []
  }
 ],
 "metadata": {
  "kernelspec": {
   "display_name": "Python 2",
   "language": "python",
   "name": "python2"
  },
  "language_info": {
   "codemirror_mode": {
    "name": "ipython",
    "version": 2
   },
   "file_extension": ".py",
   "mimetype": "text/x-python",
   "name": "python",
   "nbconvert_exporter": "python",
   "pygments_lexer": "ipython2",
   "version": "2.7.14"
  }
 },
 "nbformat": 4,
 "nbformat_minor": 2
}
