{
 "cells": [
  {
   "cell_type": "code",
   "execution_count": null,
   "metadata": {},
   "outputs": [],
   "source": [
    "import random\n",
    "import itertools\n",
    "#taken from https://arstechnica.com/civis/viewtopic.php?f=20&t=94171\n",
    "\n",
    "#import csv to people\n",
    "people = ['Lanah','Tammy','Jayla','Thy','Lisa','Jeannie','Stacy','Kristie','Kylan','Ivy','Phung','Annie D','Kim','Annie H',\n",
    "          'Vivian N','Vivian V','Tiffany','Liann','Amber','Lana','Nhi','Kathy','Cang','Kobe','Hansen','Michael','Andrew Tang',\n",
    "          'Andrew Tran','John','MT Johnny','Millard','Eric','Hoang','Bons','Tim','Anthony','Jimmy','Bao','Ryan','Quan','Brandon',]\n",
    "          \n",
    "\n",
    "def valid(a, b):\n",
    "    for i, j in itertools.zip_longest(a, b):\n",
    "        if i == j: return False\n",
    "    return True\n",
    "\n",
    "a = list(people)\n",
    "b = list(people)\n",
    "\n",
    "while not valid(a, b):\n",
    "    random.shuffle(a)\n",
    "    random.shuffle(b)\n",
    "\n",
    "for i, j in itertools.zip_longest(a, b):\n",
    "    print (i+ ' gives a gift to ' + j)"
   ]
  },
  {
   "cell_type": "code",
   "execution_count": null,
   "metadata": {
    "collapsed": true
   },
   "outputs": [],
   "source": []
  }
 ],
 "metadata": {
  "kernelspec": {
   "display_name": "Python 2",
   "language": "python",
   "name": "python2"
  },
  "language_info": {
   "codemirror_mode": {
    "name": "ipython",
    "version": 2
   },
   "file_extension": ".py",
   "mimetype": "text/x-python",
   "name": "python",
   "nbconvert_exporter": "python",
   "pygments_lexer": "ipython2",
   "version": "2.7.14"
  }
 },
 "nbformat": 4,
 "nbformat_minor": 2
}
